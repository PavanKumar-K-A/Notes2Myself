{
 "cells": [
  {
   "cell_type": "markdown",
   "metadata": {},
   "source": [
    "# Use iPython Notebook\n",
    "\n",
    "## Basics\n",
    "- Create a file with  extension as ipynb to create an iPython Notebook. \n",
    "- Use a mix of markdown and python code to create any report.\n",
    "- Use Ctrl+Enter to start an iPython notebook.\n",
    "- Use LaTex Notation to Write Formula\n",
    "\n",
    "$$c = \\sqrt{a^2 + b^2}$$"
   ]
  },
  {
   "cell_type": "code",
   "execution_count": 1,
   "metadata": {
    "collapsed": true
   },
   "outputs": [],
   "source": [
    "# Code block\n",
    "x = 10\n",
    "y = 20\n",
    "sum = x + y + 50\n",
    "print sum"
   ]
  }
 ],
 "metadata": {
  "kernelspec": {
   "display_name": "Python 2",
   "language": "python",
   "name": "python2"
  },
  "language_info": {
   "codemirror_mode": {
    "name": "ipython",
    "version": 2
   },
   "file_extension": ".py",
   "mimetype": "text/x-python",
   "name": "python",
   "nbconvert_exporter": "python",
   "pygments_lexer": "ipython2",
   "version": "2.7.6"
  }
 },
 "nbformat": 4,
 "nbformat_minor": 0
}
